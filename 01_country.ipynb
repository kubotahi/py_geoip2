{
 "cells": [
  {
   "cell_type": "code",
   "execution_count": 2,
   "metadata": {},
   "outputs": [],
   "source": [
    "import geoip2.database\n"
   ]
  },
  {
   "cell_type": "code",
   "execution_count": 3,
   "metadata": {},
   "outputs": [
    {
     "name": "stdout",
     "output_type": "stream",
     "text": [
      "Country: Japan\n",
      "ISO Code: JP\n"
     ]
    }
   ],
   "source": [
    "# ダウンロードしたデータベースのパスを指定します\n",
    "db_path = './data/GeoLite2-Country.mmdb'\n",
    "\n",
    "# IPアドレスを指定します\n",
    "#ip_address = '8.8.8.8'\n",
    "ip_address = \"147.192.28.58\"\n",
    "\n",
    "# データベースを開いて検索を実行します\n",
    "with geoip2.database.Reader(db_path) as reader:\n",
    "    response = reader.country(ip_address)\n",
    "    print(f\"Country: {response.country.name}\")\n",
    "    print(f\"ISO Code: {response.country.iso_code}\")\n"
   ]
  }
 ],
 "metadata": {
  "kernelspec": {
   "display_name": "Python 3",
   "language": "python",
   "name": "python3"
  },
  "language_info": {
   "codemirror_mode": {
    "name": "ipython",
    "version": 3
   },
   "file_extension": ".py",
   "mimetype": "text/x-python",
   "name": "python",
   "nbconvert_exporter": "python",
   "pygments_lexer": "ipython3",
   "version": "3.9.6"
  }
 },
 "nbformat": 4,
 "nbformat_minor": 2
}
