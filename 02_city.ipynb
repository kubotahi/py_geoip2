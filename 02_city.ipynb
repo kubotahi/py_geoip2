{
 "cells": [
  {
   "cell_type": "code",
   "execution_count": 3,
   "metadata": {},
   "outputs": [],
   "source": [
    "import geoip2.database\n"
   ]
  },
  {
   "cell_type": "code",
   "execution_count": 4,
   "metadata": {},
   "outputs": [
    {
     "name": "stdout",
     "output_type": "stream",
     "text": [
      "Country: Japan [JP]\n",
      "City: Nakano\n",
      "Postal Code: 164-0001\n",
      "Latitude: 35.704, Longitude: 139.6713\n"
     ]
    }
   ],
   "source": [
    "# ダウンロードしたデータベースのパスを指定します\n",
    "db_path = './data/GeoLite2-City.mmdb'\n",
    "\n",
    "# IPアドレスを指定します\n",
    "#ip_address = '8.8.8.8'\n",
    "ip_address = \"147.192.28.58\"\n",
    "\n",
    "# データベースを開いて検索を実行します\n",
    "with geoip2.database.Reader(db_path) as reader:\n",
    "    # IPアドレスから都市情報を取得\n",
    "    response = reader.city(ip_address)\n",
    "    \n",
    "    # 国情報\n",
    "    country_name = response.country.name\n",
    "    country_iso_code = response.country.iso_code\n",
    "    \n",
    "    # 都市情報\n",
    "    city_name = response.city.name\n",
    "    \n",
    "    # 郵便番号\n",
    "    postal_code = response.postal.code\n",
    "    \n",
    "    # 地理的な位置情報\n",
    "    latitude = response.location.latitude\n",
    "    longitude = response.location.longitude\n",
    "\n",
    "    # 出力\n",
    "    print(f\"Country: {country_name} [{country_iso_code}]\")\n",
    "    print(f\"City: {city_name}\")\n",
    "    print(f\"Postal Code: {postal_code}\")\n",
    "    print(f\"Latitude: {latitude}, Longitude: {longitude}\")\n"
   ]
  }
 ],
 "metadata": {
  "kernelspec": {
   "display_name": "Python 3",
   "language": "python",
   "name": "python3"
  },
  "language_info": {
   "codemirror_mode": {
    "name": "ipython",
    "version": 3
   },
   "file_extension": ".py",
   "mimetype": "text/x-python",
   "name": "python",
   "nbconvert_exporter": "python",
   "pygments_lexer": "ipython3",
   "version": "3.11.5"
  }
 },
 "nbformat": 4,
 "nbformat_minor": 2
}
