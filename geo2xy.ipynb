{
 "cells": [
  {
   "cell_type": "code",
   "execution_count": 1,
   "metadata": {},
   "outputs": [],
   "source": [
    "import pyproj\n"
   ]
  },
  {
   "cell_type": "code",
   "execution_count": 2,
   "metadata": {},
   "outputs": [
    {
     "name": "stdout",
     "output_type": "stream",
     "text": [
      "X: 5643378.453677719, Y: 14276993.9050623\n"
     ]
    }
   ],
   "source": [
    "# Transformer を使って座標系を変換しています。epsg:4326 はWGS84（一般的な緯度経度の座標系）を示し、epsg:32633 はUTMの33Nゾーンを示します。\n",
    "# WGS84からUTM（例：33Nゾーン）への変換器を作成\n",
    "transformer = pyproj.Transformer.from_crs(\"epsg:4326\", \"epsg:32633\")\n",
    "\n",
    "# 緯度経度を変換\n",
    "latitude = 35.681236\n",
    "longitude = 139.767125\n",
    "\n",
    "x, y = transformer.transform(latitude, longitude)\n",
    "\n",
    "print(f\"X: {x}, Y: {y}\")\n"
   ]
  }
 ],
 "metadata": {
  "kernelspec": {
   "display_name": "Python 3",
   "language": "python",
   "name": "python3"
  },
  "language_info": {
   "codemirror_mode": {
    "name": "ipython",
    "version": 3
   },
   "file_extension": ".py",
   "mimetype": "text/x-python",
   "name": "python",
   "nbconvert_exporter": "python",
   "pygments_lexer": "ipython3",
   "version": "3.11.5"
  }
 },
 "nbformat": 4,
 "nbformat_minor": 2
}
