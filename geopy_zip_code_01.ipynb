{
 "cells": [
  {
   "cell_type": "code",
   "execution_count": 1,
   "metadata": {},
   "outputs": [],
   "source": [
    "from geopy.geocoders import Nominatim\n"
   ]
  },
  {
   "cell_type": "code",
   "execution_count": 2,
   "metadata": {},
   "outputs": [
    {
     "name": "stdout",
     "output_type": "stream",
     "text": [
      "緯度: 35.68502713333333, 経度: 139.7532598\n"
     ]
    }
   ],
   "source": [
    "\n",
    "def get_lat_long_from_zip(zip_code, country='JP'):\n",
    "    geolocator = Nominatim(user_agent=\"zip_code_locator\")\n",
    "    location = geolocator.geocode(f\"{zip_code}, {country}\")\n",
    "    if location:\n",
    "        return location.latitude, location.longitude\n",
    "    else:\n",
    "        return None, None\n",
    "\n",
    "# 使用例\n",
    "zip_code = \"100-0001\"  # 東京の郵便番号例\n",
    "latitude, longitude = get_lat_long_from_zip(zip_code)\n",
    "print(f\"緯度: {latitude}, 経度: {longitude}\")\n"
   ]
  }
 ],
 "metadata": {
  "kernelspec": {
   "display_name": "Python 3",
   "language": "python",
   "name": "python3"
  },
  "language_info": {
   "codemirror_mode": {
    "name": "ipython",
    "version": 3
   },
   "file_extension": ".py",
   "mimetype": "text/x-python",
   "name": "python",
   "nbconvert_exporter": "python",
   "pygments_lexer": "ipython3",
   "version": "3.11.5"
  }
 },
 "nbformat": 4,
 "nbformat_minor": 2
}
